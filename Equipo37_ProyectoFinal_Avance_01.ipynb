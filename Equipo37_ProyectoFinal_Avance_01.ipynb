{
  "nbformat": 4,
  "nbformat_minor": 0,
  "metadata": {
    "colab": {
      "provenance": [],
      "authorship_tag": "ABX9TyMFK76Nq0gkpmLEeUULsnBl",
      "include_colab_link": true
    },
    "kernelspec": {
      "name": "python3",
      "display_name": "Python 3"
    },
    "language_info": {
      "name": "python"
    }
  },
  "cells": [
    {
      "cell_type": "markdown",
      "metadata": {
        "id": "view-in-github",
        "colab_type": "text"
      },
      "source": [
        "<a href=\"https://colab.research.google.com/github/PosgradoMNA/actividades-del-projecto-equipo_37/blob/main/Equipo37_ProyectoFinal_Avance_01.ipynb\" target=\"_parent\"><img src=\"https://colab.research.google.com/assets/colab-badge.svg\" alt=\"Open In Colab\"/></a>"
      ]
    },
    {
      "cell_type": "markdown",
      "source": [
        "# Ciencia y analítica de datos\n",
        "Profesor: **Jobish Vallikavungal Devassia**\n",
        "# Equipo 37\n",
        ">Karina Zafra Vallejo           A01793979\n",
        "\n",
        ">Francisco Javier Parga García  A01794380"
      ],
      "metadata": {
        "id": "Q28aSJVNMyLA"
      }
    },
    {
      "cell_type": "markdown",
      "source": [
        "# 1. Nombre que caracteriza el conjunto de datos:\n",
        "> **Predicción de enfermedad de corazón**\n",
        "\n",
        "Tipo de problema: Social / Salud"
      ],
      "metadata": {
        "id": "5jCkP0xBxfB4"
      }
    },
    {
      "cell_type": "markdown",
      "source": [
        "#2. La organización que lo generó:\n",
        "> Kagge, estudio sobre población de Framingham, Massachusetts."
      ],
      "metadata": {
        "id": "RBzXVabmx72C"
      }
    },
    {
      "cell_type": "markdown",
      "source": [
        "#3. Link de descarga\n",
        "> [framingham.csv](https://www.kaggle.com/datasets/dileep070/heart-disease-prediction-using-logistic-regression/download?datasetVersionNumber=1) (Consultada el 24 Septiembre de 2022)"
      ],
      "metadata": {
        "id": "hQSqmIe5Bqyu"
      }
    },
    {
      "cell_type": "markdown",
      "source": [
        "#4. Descripción del conjunto de datos\n",
        "\n",
        "El conjunto de datos está disponible públicamente en el sitio web de Kaggle, y procede de un estudio cardiovascular en curso sobre los residentes de la ciudad de Framingham, Massachusetts. El objetivo de la clasificación es predecir si el paciente tiene un riesgo de 10 años de sufrir una futura enfermedad coronaria (CHD por sus siglas en inglés).El conjunto de datos proporciona la información de los pacientes. Incluye más de 4.000 registros y 15 variables.\n",
        "\n",
        "Variable | Descripción\n",
        "---|---\n",
        "- Sexo | Masculino o femenino\n",
        "- Edad | Edad del paciente;(Continua - Aunque las edades registradas se han truncado a números enteros, el concepto de edad es continuo)\n",
        "- Fumador actual| Si el paciente es o no fumador actual \n",
        "- Cigarrillos por día|El número de cigarrillos que la persona ha fumado de media en un día (puede considerarse continuo ya que se puede fumar cualquier número de cigarrillos, incluso medio cigarrillo)\n",
        "- Medicación para la tensión arterial| Si el paciente tomaba o no medicación para la tensión arterial \n",
        "- Accidente cerebrovascular prevalente| si el paciente ha tenido o no un accidente cerebrovascular previamente\n",
        "- Hipertensión Prevalente| si el paciente era o no hipertenso \n",
        "- Diabetes| si el paciente tenía o no diabetes\n",
        "- Colesterol total (Tot Chol)| nivel de colesterol total \n",
        "- Sys BP| presión arterial sistólica \n",
        "- Dia BP| presión arterial diastólica \n",
        "- IMC| Índice de masa corporal \n",
        "- Frecuencia cardíaca| frecuencia cardíaca (continua - En la investigación médica, variables como la frecuencia cardíaca, aunque de hecho son discretas, se consideran continuas debido al gran número de valores posibles)\n",
        "- Glucosa| nivel de glucosa \n",
        "- Riesgo a 10 años de enfermedad coronaria CHD|  (binario: \"1\", significa \"Sí\", \"0\" significa \"No\")"
      ],
      "metadata": {
        "id": "_0nrPM7cCq8d"
      }
    },
    {
      "cell_type": "markdown",
      "source": [
        "#5. Preguntas de investigación:\n",
        " \n",
        "\n",
        "1.   ¿Cuál es la edad promedio en la que los pacientes son más suceptibles a desarrollar una enfermedad coronaria?\n",
        "2.   ¿Qué otros factores de riesgo son más relevantes para predecir una enfermedad coronaria?\n",
        "3.   ¿Existe correlación entre el número de cigarrillos al día y la probabilidad de sufrir una enfermedad coronaria?\n",
        "4.   ¿El género es un factor de riesgo para sufrir una enfermedad coronaria?\n",
        "5.   ¿Qué rangos de presión arteriar muestran incremento en el riesgo de una enfermedad coronaria?\n",
        "6.   ¿El peso es un factor de riesgo importante?\n",
        "7.   Las varialbles analizadas, ¿son suficientes para predecir con gran certidumbre la probabilidad de una enfermedad coronaria?\n",
        "8.   ¿Existe correlación con la frecuencia cardiaca y la probabilidad de una enfermedad coronaria?\n"
      ],
      "metadata": {
        "id": "oTllJMwsFlCj"
      }
    },
    {
      "cell_type": "markdown",
      "source": [
        "#6. Actores interesados\n",
        "\n",
        "*   Entidad prestadora de servicio de Salud:\n",
        " *  Hospital, Clinica, Gobierno, etc\n",
        "*   Aseguradoras\n",
        "*   Casas de asilo\n",
        "*   Farmaceúticas\n",
        "*   Nutriologos\n",
        "*   Funerarias\n",
        "\n",
        "\n",
        "\n"
      ],
      "metadata": {
        "id": "qP1FVEB_GXBW"
      }
    }
  ]
}